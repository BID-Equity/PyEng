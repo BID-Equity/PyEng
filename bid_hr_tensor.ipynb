{
  "nbformat": 4,
  "nbformat_minor": 0,
  "metadata": {
    "colab": {
      "provenance": [],
      "authorship_tag": "ABX9TyOtqu2za0s8v63PJg/Ek2Xz",
      "include_colab_link": true
    },
    "kernelspec": {
      "name": "python3",
      "display_name": "Python 3"
    },
    "language_info": {
      "name": "python"
    }
  },
  "cells": [
    {
      "cell_type": "markdown",
      "metadata": {
        "id": "view-in-github",
        "colab_type": "text"
      },
      "source": [
        "<a href=\"https://colab.research.google.com/github/BID-Equity/PyEng/blob/master/bid_hr_tensor.ipynb\" target=\"_parent\"><img src=\"https://colab.research.google.com/assets/colab-badge.svg\" alt=\"Open In Colab\"/></a>"
      ]
    },
    {
      "cell_type": "code",
      "execution_count": null,
      "metadata": {
        "id": "-si3_muMrrFm"
      },
      "outputs": [],
      "source": [
        "!pip install clearml numpy clearml-agent 'pyjwt<1.8.0'"
      ]
    },
    {
      "cell_type": "code",
      "source": [
        "%%bash\n",
        "\n",
        "export api=`cat <<EOF\n",
        "api {\n",
        "    # Stef Telford's workspace\n",
        "    web_server: https://app.community.clear.ml\n",
        "    api_server: https://api.community.clear.ml\n",
        "    files_server: https://files.community.clear.ml\n",
        "    credentials {\n",
        "        \"access_key\" = \"9HZ96EWIQ187SPGQ2V7T\"\n",
        "        \"secret_key\" = \"tvwwNPDjFLtvIZXnxCIH1hMRJg9D234YB37Tt7qbsbhvJwGXE2\"\n",
        "    }\n",
        "}\n",
        "EOF\n",
        "`\n",
        "echo \"$api\" > /root/clearml.conf"
      ],
      "metadata": {
        "id": "0r7MKaaFtFuZ"
      },
      "execution_count": 1,
      "outputs": []
    },
    {
      "cell_type": "code",
      "source": [
        "!clearml-agent daemon --queue default"
      ],
      "metadata": {
        "id": "s5Wxd_3GtWBE"
      },
      "execution_count": 2,
      "outputs": []
    }
  ]
}